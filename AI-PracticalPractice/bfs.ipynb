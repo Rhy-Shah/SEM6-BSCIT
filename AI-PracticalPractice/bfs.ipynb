{
 "cells": [
  {
   "cell_type": "code",
   "execution_count": 28,
   "metadata": {},
   "outputs": [
    {
     "name": "stdout",
     "output_type": "stream",
     "text": [
      "{'A': 0, 'C': 1, 'B': 1, 'F': 2, 'E': 2, 'D': 2}\n"
     ]
    }
   ],
   "source": [
    "graph={'A':['C','B'],\n",
    "    'C':['F','A'],\n",
    "    'B':['E','D'],\n",
    "    'F':['C','E'],\n",
    "    'E':['F','B'],\n",
    "    'D':['B']}\n",
    "\n",
    "levels = {}\n",
    "\n",
    "def bfs(start):\n",
    "    visited = [start]\n",
    "    queue = [start]\n",
    "    levels[start] = 0\n",
    "    \n",
    "    while queue:\n",
    "        node = queue.pop(0)\n",
    " \n",
    "        for current in graph[node]:\n",
    "            if current not in visited:\n",
    "                visited.append(current)\n",
    "                queue.append(current)\n",
    "                levels[current] = levels[node] + 1\n",
    "    return levels\n",
    "\n",
    "print(bfs('A'))"
   ]
  },
  {
   "cell_type": "code",
   "execution_count": 29,
   "metadata": {},
   "outputs": [
    {
     "name": "stdout",
     "output_type": "stream",
     "text": [
      "F\n",
      "C\n",
      "E\n",
      "A\n"
     ]
    }
   ],
   "source": [
    "visited=[] \n",
    "queue=[]\n",
    "\n",
    "def bfs (start,goal):\n",
    "    visited.append(start)\n",
    "    queue.append(start)\n",
    "\n",
    "    while queue:\n",
    "        node = queue.pop(0)\n",
    "        print(node)\n",
    "        if node == goal:\n",
    "            return\n",
    "        \n",
    "        for current in graph[node]:\n",
    "            if current not in visited:\n",
    "                visited.append(current)\n",
    "                queue.append(current)\n",
    "                \n",
    "bfs('F','A')"
   ]
  }
 ],
 "metadata": {
  "kernelspec": {
   "display_name": "Python 3",
   "language": "python",
   "name": "python3"
  },
  "language_info": {
   "codemirror_mode": {
    "name": "ipython",
    "version": 3
   },
   "file_extension": ".py",
   "mimetype": "text/x-python",
   "name": "python",
   "nbconvert_exporter": "python",
   "pygments_lexer": "ipython3",
   "version": "3.10.9"
  },
  "orig_nbformat": 4,
  "vscode": {
   "interpreter": {
    "hash": "ed151676ba7cc20a52a8e3d85c1398e9c2097e3c955486c9e29439ec09d18f71"
   }
  }
 },
 "nbformat": 4,
 "nbformat_minor": 2
}
